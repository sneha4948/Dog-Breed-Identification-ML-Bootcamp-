{
 "cells": [
  {
   "cell_type": "raw",
   "id": "b9b1aeca",
   "metadata": {
    "_cell_guid": "b1076dfc-b9ad-4769-8c92-a6c4dae69d19",
    "_uuid": "8f2839f25d086af736a60e9eeb907d3b93b6e0e5",
    "papermill": {
     "duration": 0.007963,
     "end_time": "2022-11-07T22:58:42.817191",
     "exception": false,
     "start_time": "2022-11-07T22:58:42.809228",
     "status": "completed"
    },
    "tags": []
   },
   "source": [
    "# This Python 3 environment comes with many helpful analytics libraries installed\n",
    "# It is defined by the kaggle/python Docker image: https://github.com/kaggle/docker-python\n",
    "# For example, here's several helpful packages to load\n",
    "\n",
    "import numpy as np # linear algebra\n",
    "import pandas as pd # data processing, CSV file I/O (e.g. pd.read_csv)\n",
    "\n",
    "# Input data files are available in the read-only \"../input/\" directory\n",
    "# For example, running this (by clicking run or pressing Shift+Enter) will list all files under the input directory\n",
    "\n",
    "import os\n",
    "for dirname, _, filenames in os.walk('/kaggle/input'):\n",
    "    for filename in filenames:\n",
    "        print(os.path.join(dirname, filename))\n",
    "\n",
    "# You can write up to 20GB to the current directory (/kaggle/working/) that gets preserved as output when you create a version using \"Save & Run All\" \n",
    "# You can also write temporary files to /kaggle/temp/, but they won't be saved outside of the current session"
   ]
  },
  {
   "cell_type": "code",
   "execution_count": 1,
   "id": "3f5c13c4",
   "metadata": {
    "execution": {
     "iopub.execute_input": "2022-11-07T22:58:42.833468Z",
     "iopub.status.busy": "2022-11-07T22:58:42.832840Z",
     "iopub.status.idle": "2022-11-07T22:58:42.840996Z",
     "shell.execute_reply": "2022-11-07T22:58:42.840018Z"
    },
    "papermill": {
     "duration": 0.01848,
     "end_time": "2022-11-07T22:58:42.842808",
     "exception": false,
     "start_time": "2022-11-07T22:58:42.824328",
     "status": "completed"
    },
    "tags": []
   },
   "outputs": [],
   "source": [
    "import os\n",
    "#for dirname, _, filenames in os.walk('/kaggle/input'):\n",
    "    #for filename in filenames:\n",
    "        #print(os.path.join(dirname, filename))"
   ]
  },
  {
   "cell_type": "code",
   "execution_count": 2,
   "id": "c568f14d",
   "metadata": {
    "execution": {
     "iopub.execute_input": "2022-11-07T22:58:42.858844Z",
     "iopub.status.busy": "2022-11-07T22:58:42.858352Z",
     "iopub.status.idle": "2022-11-07T22:58:42.867067Z",
     "shell.execute_reply": "2022-11-07T22:58:42.865941Z"
    },
    "papermill": {
     "duration": 0.018939,
     "end_time": "2022-11-07T22:58:42.869138",
     "exception": false,
     "start_time": "2022-11-07T22:58:42.850199",
     "status": "completed"
    },
    "tags": []
   },
   "outputs": [
    {
     "name": "stdout",
     "output_type": "stream",
     "text": [
      "['dog-breed-identification-mlbootcamp']\n"
     ]
    }
   ],
   "source": [
    "import warnings\n",
    "warnings.filterwarnings(\"ignore\")\n",
    "import numpy as np\n",
    "import pandas as pd \n",
    "from os import listdir\n",
    "from os.path import basename,join,exists\n",
    "import os\n",
    "print(listdir(\"../input\"))\n",
    "import threading\n",
    "from queue import Queue\n",
    "from math import floor\n",
    "import time\n",
    "import pickle\n",
    "import matplotlib.pyplot as plt\n",
    "%matplotlib inline\n",
    "# Any results you write to the current directory are saved as output."
   ]
  },
  {
   "cell_type": "code",
   "execution_count": 3,
   "id": "19b06a98",
   "metadata": {
    "execution": {
     "iopub.execute_input": "2022-11-07T22:58:42.886253Z",
     "iopub.status.busy": "2022-11-07T22:58:42.885347Z",
     "iopub.status.idle": "2022-11-07T22:58:43.363056Z",
     "shell.execute_reply": "2022-11-07T22:58:43.361549Z"
    },
    "papermill": {
     "duration": 0.488268,
     "end_time": "2022-11-07T22:58:43.365030",
     "exception": false,
     "start_time": "2022-11-07T22:58:42.876762",
     "status": "completed"
    },
    "tags": []
   },
   "outputs": [
    {
     "name": "stdout",
     "output_type": "stream",
     "text": [
      "120\n",
      "['affenpinscher', 'afghan_hound', 'african_hunting_dog', 'airedale', 'american_staffordshire_terrier', 'appenzeller', 'australian_terrier', 'basenji', 'basset', 'beagle', 'bedlington_terrier', 'bernese_mountain_dog', 'black-and-tan_coonhound', 'blenheim_spaniel', 'bloodhound', 'bluetick', 'border_collie', 'border_terrier', 'borzoi', 'boston_bull', 'bouvier_des_flandres', 'boxer', 'brabancon_griffon', 'briard', 'brittany_spaniel', 'bull_mastiff', 'cairn', 'cardigan', 'chesapeake_bay_retriever', 'chihuahua', 'chow', 'clumber', 'cocker_spaniel', 'collie', 'curly-coated_retriever', 'dandie_dinmont', 'dhole', 'dingo', 'doberman', 'english_foxhound', 'english_setter', 'english_springer', 'entlebucher', 'eskimo_dog', 'flat-coated_retriever', 'french_bulldog', 'german_shepherd', 'german_short-haired_pointer', 'giant_schnauzer', 'golden_retriever', 'gordon_setter', 'great_dane', 'great_pyrenees', 'greater_swiss_mountain_dog', 'groenendael', 'ibizan_hound', 'irish_setter', 'irish_terrier', 'irish_water_spaniel', 'irish_wolfhound', 'italian_greyhound', 'japanese_spaniel', 'keeshond', 'kelpie', 'kerry_blue_terrier', 'komondor', 'kuvasz', 'labrador_retriever', 'lakeland_terrier', 'leonberg', 'lhasa', 'malamute', 'malinois', 'maltese_dog', 'mexican_hairless', 'miniature_pinscher', 'miniature_poodle', 'miniature_schnauzer', 'newfoundland', 'norfolk_terrier', 'norwegian_elkhound', 'norwich_terrier', 'old_english_sheepdog', 'otterhound', 'papillon', 'pekinese', 'pembroke', 'pomeranian', 'pug', 'redbone', 'rhodesian_ridgeback', 'rottweiler', 'saint_bernard', 'saluki', 'samoyed', 'schipperke', 'scotch_terrier', 'scottish_deerhound', 'sealyham_terrier', 'shetland_sheepdog', 'shih-tzu', 'siberian_husky', 'silky_terrier', 'soft-coated_wheaten_terrier', 'staffordshire_bullterrier', 'standard_poodle', 'standard_schnauzer', 'sussex_spaniel', 'tibetan_mastiff', 'tibetan_terrier', 'toy_poodle', 'toy_terrier', 'vizsla', 'walker_hound', 'weimaraner', 'welsh_springer_spaniel', 'west_highland_white_terrier', 'whippet', 'wire-haired_fox_terrier', 'yorkshire_terrier']\n"
     ]
    }
   ],
   "source": [
    "df = pd.read_csv('../input/dog-breed-identification-mlbootcamp/sample_submission.csv')\n",
    "train_dir_path = \"../input/dog-breed-identification-mlbootcamp/train\"\n",
    "test_dir_path = \"../input/dog-breed-identification-mlbootcamp/test\"\n",
    "labels_df = pd.read_csv('../input/dog-breed-identification-mlbootcamp/labels.csv')\n",
    "dog_breeds = list(df.columns[1:])\n",
    "print(len(dog_breeds))\n",
    "print(dog_breeds)"
   ]
  },
  {
   "cell_type": "code",
   "execution_count": 4,
   "id": "88f40229",
   "metadata": {
    "execution": {
     "iopub.execute_input": "2022-11-07T22:58:43.381644Z",
     "iopub.status.busy": "2022-11-07T22:58:43.381317Z",
     "iopub.status.idle": "2022-11-07T22:58:43.917109Z",
     "shell.execute_reply": "2022-11-07T22:58:43.915825Z"
    },
    "papermill": {
     "duration": 0.546505,
     "end_time": "2022-11-07T22:58:43.919139",
     "exception": false,
     "start_time": "2022-11-07T22:58:43.372634",
     "status": "completed"
    },
    "tags": []
   },
   "outputs": [
    {
     "name": "stdout",
     "output_type": "stream",
     "text": [
      "10222\n",
      "10357\n"
     ]
    }
   ],
   "source": [
    "train_img_fpaths = [ join(train_dir_path, f) for f in listdir(train_dir_path)]\n",
    "test_img_fpaths = [join(test_dir_path, f) for f in listdir(test_dir_path)]\n",
    "print(len(train_img_fpaths))\n",
    "print(len(test_img_fpaths))"
   ]
  },
  {
   "cell_type": "code",
   "execution_count": 5,
   "id": "7be4a81d",
   "metadata": {
    "execution": {
     "iopub.execute_input": "2022-11-07T22:58:43.936687Z",
     "iopub.status.busy": "2022-11-07T22:58:43.936078Z",
     "iopub.status.idle": "2022-11-07T22:58:43.943624Z",
     "shell.execute_reply": "2022-11-07T22:58:43.942733Z"
    },
    "papermill": {
     "duration": 0.019214,
     "end_time": "2022-11-07T22:58:43.945898",
     "exception": false,
     "start_time": "2022-11-07T22:58:43.926684",
     "status": "completed"
    },
    "tags": []
   },
   "outputs": [],
   "source": [
    "def dog_breed_from_id(dog_id):\n",
    "    #labels_df = pd.read_csv('../input/labels.csv')\n",
    "    return labels_df[labels_df['id'] ==dog_id]['breed'].values"
   ]
  },
  {
   "cell_type": "code",
   "execution_count": 6,
   "id": "efb942dd",
   "metadata": {
    "execution": {
     "iopub.execute_input": "2022-11-07T22:58:43.963760Z",
     "iopub.status.busy": "2022-11-07T22:58:43.963194Z",
     "iopub.status.idle": "2022-11-07T22:58:44.228720Z",
     "shell.execute_reply": "2022-11-07T22:58:44.227491Z"
    },
    "papermill": {
     "duration": 0.276992,
     "end_time": "2022-11-07T22:58:44.231202",
     "exception": false,
     "start_time": "2022-11-07T22:58:43.954210",
     "status": "completed"
    },
    "tags": []
   },
   "outputs": [],
   "source": [
    "import cv2 as cv\n",
    "import numpy as np"
   ]
  },
  {
   "cell_type": "code",
   "execution_count": 7,
   "id": "737e3a09",
   "metadata": {
    "execution": {
     "iopub.execute_input": "2022-11-07T22:58:44.248183Z",
     "iopub.status.busy": "2022-11-07T22:58:44.247797Z",
     "iopub.status.idle": "2022-11-07T22:58:44.252243Z",
     "shell.execute_reply": "2022-11-07T22:58:44.251322Z"
    },
    "papermill": {
     "duration": 0.015098,
     "end_time": "2022-11-07T22:58:44.253959",
     "exception": false,
     "start_time": "2022-11-07T22:58:44.238861",
     "status": "completed"
    },
    "tags": []
   },
   "outputs": [],
   "source": [
    "# variables \n",
    "IMG_HEIGHT = 150\n",
    "IMG_WIDTH = 150\n",
    "IMG_CHANNELS = 3\n",
    "BATCH_SIZE = 500\n",
    "lock = threading.Lock()"
   ]
  },
  {
   "cell_type": "code",
   "execution_count": 8,
   "id": "658a9517",
   "metadata": {
    "execution": {
     "iopub.execute_input": "2022-11-07T22:58:44.270372Z",
     "iopub.status.busy": "2022-11-07T22:58:44.269737Z",
     "iopub.status.idle": "2022-11-07T22:58:44.275383Z",
     "shell.execute_reply": "2022-11-07T22:58:44.274144Z"
    },
    "papermill": {
     "duration": 0.015638,
     "end_time": "2022-11-07T22:58:44.277135",
     "exception": false,
     "start_time": "2022-11-07T22:58:44.261497",
     "status": "completed"
    },
    "tags": []
   },
   "outputs": [],
   "source": [
    "def img_to_array(img_path):   \n",
    "    img_array = cv.imread(img_path)\n",
    "    img_array = cv.resize(img_array, (IMG_HEIGHT, IMG_WIDTH))\n",
    "    img_array = img_array.reshape(-1,IMG_HEIGHT,IMG_WIDTH, IMG_CHANNELS)\n",
    "    return img_array"
   ]
  },
  {
   "cell_type": "code",
   "execution_count": 9,
   "id": "8e5163bd",
   "metadata": {
    "execution": {
     "iopub.execute_input": "2022-11-07T22:58:44.293399Z",
     "iopub.status.busy": "2022-11-07T22:58:44.293055Z",
     "iopub.status.idle": "2022-11-07T22:58:44.298093Z",
     "shell.execute_reply": "2022-11-07T22:58:44.297021Z"
    },
    "papermill": {
     "duration": 0.015562,
     "end_time": "2022-11-07T22:58:44.300002",
     "exception": false,
     "start_time": "2022-11-07T22:58:44.284440",
     "status": "completed"
    },
    "tags": []
   },
   "outputs": [],
   "source": [
    "# initialize queue which is threadsafe \n",
    "def initialize_queue():\n",
    "    queue =Queue()\n",
    "    return queue"
   ]
  },
  {
   "cell_type": "code",
   "execution_count": 10,
   "id": "7f00d2a5",
   "metadata": {
    "execution": {
     "iopub.execute_input": "2022-11-07T22:58:44.316880Z",
     "iopub.status.busy": "2022-11-07T22:58:44.316533Z",
     "iopub.status.idle": "2022-11-07T22:58:44.321927Z",
     "shell.execute_reply": "2022-11-07T22:58:44.320743Z"
    },
    "papermill": {
     "duration": 0.016075,
     "end_time": "2022-11-07T22:58:44.323852",
     "exception": false,
     "start_time": "2022-11-07T22:58:44.307777",
     "status": "completed"
    },
    "tags": []
   },
   "outputs": [],
   "source": [
    "# get list of image ids from names of test images\n",
    "def get_test_image_ids():\n",
    "    return [basename(fpath).split('.')[0] for fpath in test_img_fpaths]"
   ]
  },
  {
   "cell_type": "code",
   "execution_count": 11,
   "id": "89d0c1f9",
   "metadata": {
    "execution": {
     "iopub.execute_input": "2022-11-07T22:58:44.340194Z",
     "iopub.status.busy": "2022-11-07T22:58:44.339869Z",
     "iopub.status.idle": "2022-11-07T22:58:44.349022Z",
     "shell.execute_reply": "2022-11-07T22:58:44.347802Z"
    },
    "papermill": {
     "duration": 0.019353,
     "end_time": "2022-11-07T22:58:44.350785",
     "exception": false,
     "start_time": "2022-11-07T22:58:44.331432",
     "status": "completed"
    },
    "tags": []
   },
   "outputs": [],
   "source": [
    "# converts image files to numpy array and based on train/test, return train array and labels,\n",
    "def get_data(is_train):\n",
    "    # 1 batch per thread and last thread with remaining images\n",
    "    img_fpaths = train_img_fpaths if is_train else test_img_fpaths\n",
    "    num_threads = floor(len(img_fpaths)/BATCH_SIZE)\n",
    "    print(\"num of threads:\", num_threads + 1)\n",
    "    img_array = None\n",
    "    queue = initialize_queue()\n",
    "    results = []          # results from multiple threads\n",
    "    print(\"getting training data....\") if is_train else print(\"getting testing data....\")\n",
    "    \n",
    "    # load queue with data for each task\n",
    "    for batch_index in range(num_threads + 1):\n",
    "        if batch_index == num_threads:\n",
    "            file_batch = img_fpaths[(batch_index*BATCH_SIZE):]\n",
    "        else:\n",
    "            file_batch = img_fpaths[(batch_index*BATCH_SIZE) : (batch_index + 1)*BATCH_SIZE]\n",
    "        queue.put(file_batch)\n",
    "    \n",
    "    # iterate over loop to create threads\n",
    "    for thread_index in range(num_threads+1):\n",
    "        thread = threading.Thread(target = get_train_data_parallely, args=(queue, results)) if is_train else threading.Thread(target =get_testing_data_parallely, args =(queue, results))    \n",
    "        thread.start()\n",
    "        print(\"{} started\".format(thread.name))\n",
    "       # worker_threads.append(thread)\n",
    "        \n",
    "    # when queue in empty\n",
    "    queue.join()\n",
    "    return results"
   ]
  },
  {
   "cell_type": "code",
   "execution_count": 12,
   "id": "bb8f4a97",
   "metadata": {
    "execution": {
     "iopub.execute_input": "2022-11-07T22:58:44.368014Z",
     "iopub.status.busy": "2022-11-07T22:58:44.367384Z",
     "iopub.status.idle": "2022-11-07T22:58:44.374256Z",
     "shell.execute_reply": "2022-11-07T22:58:44.372810Z"
    },
    "papermill": {
     "duration": 0.017952,
     "end_time": "2022-11-07T22:58:44.376374",
     "exception": false,
     "start_time": "2022-11-07T22:58:44.358422",
     "status": "completed"
    },
    "tags": []
   },
   "outputs": [],
   "source": [
    "# convert training data into list of tuples\n",
    "# this subroutine represents a task for child thread to collect training data\n",
    "def get_train_data_parallely(queue, results):\n",
    "    result = []\n",
    "    while not queue.empty():\n",
    "        fpaths = queue.get()\n",
    "        for f_path in fpaths:\n",
    "            img_array = img_to_array(f_path)\n",
    "            # train_img_array = img_array if train_img_array is None else np.vstack((train_img_array, img_array))\n",
    "            img_name = basename(f_path)\n",
    "            img_id = img_name.split('.')[0]\n",
    "            dog_breed = dog_breed_from_id(img_id)\n",
    "            #train_labels.append(dog_breed)\n",
    "            results.append((img_array, dog_breed))\n",
    "            \n",
    "    # append arr,labels for current task to results\n",
    "    print(\"{} finished\".format(threading.currentThread().getName()))\n",
    "    # signal for task has been done\n",
    "    queue.task_done()"
   ]
  },
  {
   "cell_type": "code",
   "execution_count": 13,
   "id": "b5e3910a",
   "metadata": {
    "execution": {
     "iopub.execute_input": "2022-11-07T22:58:44.392870Z",
     "iopub.status.busy": "2022-11-07T22:58:44.392535Z",
     "iopub.status.idle": "2022-11-07T22:58:44.398488Z",
     "shell.execute_reply": "2022-11-07T22:58:44.397622Z"
    },
    "papermill": {
     "duration": 0.016512,
     "end_time": "2022-11-07T22:58:44.400313",
     "exception": false,
     "start_time": "2022-11-07T22:58:44.383801",
     "status": "completed"
    },
    "tags": []
   },
   "outputs": [],
   "source": [
    "# worker job for converting test imgs to array\n",
    "def get_testing_data_parallely(queue, results):\n",
    "    while not queue.empty():\n",
    "        file_batch = queue.get()\n",
    "        for f_path in file_batch:        \n",
    "            img_name = basename(f_path)\n",
    "            img_id = img_name.split('.')[0]\n",
    "            results.append((img_id, img_to_array(f_path)))\n",
    "    print(\"{} finished\".format(threading.currentThread().getName()))\n",
    "    queue.task_done()"
   ]
  },
  {
   "cell_type": "code",
   "execution_count": 14,
   "id": "ddffd5cf",
   "metadata": {
    "execution": {
     "iopub.execute_input": "2022-11-07T22:58:44.417178Z",
     "iopub.status.busy": "2022-11-07T22:58:44.416809Z",
     "iopub.status.idle": "2022-11-07T22:58:44.422824Z",
     "shell.execute_reply": "2022-11-07T22:58:44.421917Z"
    },
    "papermill": {
     "duration": 0.017233,
     "end_time": "2022-11-07T22:58:44.425262",
     "exception": false,
     "start_time": "2022-11-07T22:58:44.408029",
     "status": "completed"
    },
    "tags": []
   },
   "outputs": [],
   "source": [
    "# method for getting training data\n",
    "def get_training_data():\n",
    "    train_results = get_data(is_train = True)\n",
    "    train_labels = []\n",
    "    img_arrays= []\n",
    "    for u_index in range(len(train_results)):\n",
    "        img_arr, identified_breed = train_results[u_index]\n",
    "        img_arrays.append(img_arr)\n",
    "        train_labels.append(identified_breed)\n",
    "    train_arr = np.array(img_arrays).reshape(-1, IMG_HEIGHT, IMG_WIDTH, IMG_CHANNELS)\n",
    "    train_arr = train_arr/255\n",
    "    train_labels = one_hot_encode_labels(train_labels)\n",
    "    return train_arr,train_labels"
   ]
  },
  {
   "cell_type": "code",
   "execution_count": 15,
   "id": "474de088",
   "metadata": {
    "execution": {
     "iopub.execute_input": "2022-11-07T22:58:44.443537Z",
     "iopub.status.busy": "2022-11-07T22:58:44.443184Z",
     "iopub.status.idle": "2022-11-07T22:58:44.449263Z",
     "shell.execute_reply": "2022-11-07T22:58:44.448213Z"
    },
    "papermill": {
     "duration": 0.017813,
     "end_time": "2022-11-07T22:58:44.451080",
     "exception": false,
     "start_time": "2022-11-07T22:58:44.433267",
     "status": "completed"
    },
    "tags": []
   },
   "outputs": [],
   "source": [
    "# method for getting testing arr\n",
    "def get_testing_data():\n",
    "    results = get_data(is_train = False)\n",
    "    test_img_ids = []\n",
    "    test_img_list = []\n",
    "    for test_result in results:\n",
    "        img_id, img_arr = test_result\n",
    "        test_img_list.append(img_arr)\n",
    "        test_img_ids.append(img_id)\n",
    "    test_img_arr = np.array(test_img_list).reshape(-1, IMG_HEIGHT, IMG_WIDTH, IMG_CHANNELS)\n",
    "    test_img_arr = test_img_arr/255\n",
    "    return test_img_arr, test_img_ids"
   ]
  },
  {
   "cell_type": "code",
   "execution_count": 16,
   "id": "a062545d",
   "metadata": {
    "execution": {
     "iopub.execute_input": "2022-11-07T22:58:44.467546Z",
     "iopub.status.busy": "2022-11-07T22:58:44.467200Z",
     "iopub.status.idle": "2022-11-07T22:58:44.471886Z",
     "shell.execute_reply": "2022-11-07T22:58:44.471119Z"
    },
    "papermill": {
     "duration": 0.014727,
     "end_time": "2022-11-07T22:58:44.473482",
     "exception": false,
     "start_time": "2022-11-07T22:58:44.458755",
     "status": "completed"
    },
    "tags": []
   },
   "outputs": [],
   "source": [
    "def save_obj_to_disk(fname, obj):\n",
    "    print(\"saving \"+ fname +\" to filesystem\")\n",
    "    if  exists(fname):\n",
    "        print(fname + \"already exists\") \n",
    "    with open(fname, 'wb') as f:\n",
    "        pickle.dump(obj, f)"
   ]
  },
  {
   "cell_type": "code",
   "execution_count": 17,
   "id": "d5ea849c",
   "metadata": {
    "execution": {
     "iopub.execute_input": "2022-11-07T22:58:44.489339Z",
     "iopub.status.busy": "2022-11-07T22:58:44.489055Z",
     "iopub.status.idle": "2022-11-07T22:58:44.493875Z",
     "shell.execute_reply": "2022-11-07T22:58:44.493066Z"
    },
    "papermill": {
     "duration": 0.014995,
     "end_time": "2022-11-07T22:58:44.496007",
     "exception": false,
     "start_time": "2022-11-07T22:58:44.481012",
     "status": "completed"
    },
    "tags": []
   },
   "outputs": [],
   "source": [
    "def load_obj_from_disk(fname):\n",
    "    if exists(fname):\n",
    "        print(\"loading \"+fname + \" from filesystem\")\n",
    "        obj = None\n",
    "        with open(fname, 'rb') as f:\n",
    "            obj = pickle.load(f)\n",
    "        return obj\n",
    "    else:\n",
    "        print(fname + \"doesnt not exists\")"
   ]
  },
  {
   "cell_type": "code",
   "execution_count": 18,
   "id": "fc26197b",
   "metadata": {
    "execution": {
     "iopub.execute_input": "2022-11-07T22:58:44.512536Z",
     "iopub.status.busy": "2022-11-07T22:58:44.512174Z",
     "iopub.status.idle": "2022-11-07T22:58:44.520150Z",
     "shell.execute_reply": "2022-11-07T22:58:44.519103Z"
    },
    "papermill": {
     "duration": 0.018105,
     "end_time": "2022-11-07T22:58:44.521780",
     "exception": false,
     "start_time": "2022-11-07T22:58:44.503675",
     "status": "completed"
    },
    "tags": []
   },
   "outputs": [],
   "source": [
    "def load_train_test_data(load_train=False, load_test=False, one_hot_encode=False):\n",
    "    train_arr = None\n",
    "    train_labels = None\n",
    "    test_arr = None\n",
    "    \n",
    "    # check if training data and labels exists already as pickled file\n",
    "    if load_train:\n",
    "        if exists(\"train_data.pickle\") and exists(\"train_labels.pickle\"):\n",
    "            train_arr = load_obj_from_disk(\"train_data.pickle\")\n",
    "            train_labels = load_obj_from_disk(\"train_labels.pickle\")\n",
    "            if one_hot_encode:\n",
    "                train_labels = one_hot_encode_labels(train_labels)\n",
    "        else:\n",
    "            # create training_data and save it to filesystem\n",
    "            train_arr, train_labels = get_data(is_train= True)\n",
    "            if not exists(\"train_data.pickle\"):\n",
    "                save_obj_to_disk(\"train_data.pickle\", train_data)\n",
    "            if not exists(\"train_labels.pickle\"):\n",
    "                save_obj_to_disk(\"train_labels.pickle\", train_labels)\n",
    "        print(\" train array shape : {}, train array labels: {}\".format(train_data.shape,len(train_labels)))\n",
    "        \n",
    "    # check if testing data and labels exists already as pickled file\n",
    "    if load_test:\n",
    "        if exists(\"test_data.pickle\"):\n",
    "            test_arr = load_obj_from_disk(\"test_data.pickle\")\n",
    "        else:\n",
    "            # create test_data and save it to filesystem\n",
    "            test_arr = get_data(is_train= False)\n",
    "            save_obj_to_disk(\"test_data.pickle\", test_arr)\n",
    "        print(\" test array shape : {}\".format(test_arr.shape))\n",
    "    return train_arr, train_labels, test_arr"
   ]
  },
  {
   "cell_type": "code",
   "execution_count": 19,
   "id": "36838776",
   "metadata": {
    "execution": {
     "iopub.execute_input": "2022-11-07T22:58:44.538017Z",
     "iopub.status.busy": "2022-11-07T22:58:44.537708Z",
     "iopub.status.idle": "2022-11-07T22:58:44.542501Z",
     "shell.execute_reply": "2022-11-07T22:58:44.541700Z"
    },
    "papermill": {
     "duration": 0.014748,
     "end_time": "2022-11-07T22:58:44.544023",
     "exception": false,
     "start_time": "2022-11-07T22:58:44.529275",
     "status": "completed"
    },
    "tags": []
   },
   "outputs": [],
   "source": [
    "# method for onehot encoding labels of train_arr\n",
    "def one_hot_encode_labels(label_arr):\n",
    "    from sklearn.preprocessing import LabelEncoder ,OneHotEncoder\n",
    "    labelEncoder = LabelEncoder()\n",
    "    integer_encoded = labelEncoder.fit_transform(np.array(label_arr))\n",
    "    integer_encoded = integer_encoded.reshape(-1,1)\n",
    "    onehotEncoder = OneHotEncoder()\n",
    "    onehot_encoded_arr = onehotEncoder.fit_transform(integer_encoded).toarray()\n",
    "    return onehot_encoded_arr"
   ]
  },
  {
   "cell_type": "code",
   "execution_count": 20,
   "id": "7fab68d2",
   "metadata": {
    "execution": {
     "iopub.execute_input": "2022-11-07T22:58:44.560140Z",
     "iopub.status.busy": "2022-11-07T22:58:44.559745Z",
     "iopub.status.idle": "2022-11-07T22:59:06.255084Z",
     "shell.execute_reply": "2022-11-07T22:59:06.253917Z"
    },
    "papermill": {
     "duration": 21.706455,
     "end_time": "2022-11-07T22:59:06.257892",
     "exception": false,
     "start_time": "2022-11-07T22:58:44.551437",
     "status": "completed"
    },
    "tags": []
   },
   "outputs": [
    {
     "name": "stdout",
     "output_type": "stream",
     "text": [
      "num of threads: 21\n",
      "getting training data....\n",
      "Thread-5 started\n",
      "Thread-6 started\n",
      "Thread-7 started\n",
      "Thread-8 started\n",
      "Thread-9 started\n",
      "Thread-10 started\n",
      "Thread-11 started\n",
      "Thread-12 started\n",
      "Thread-13 started\n",
      "Thread-14 started\n",
      "Thread-15 started\n",
      "Thread-16 started\n",
      "Thread-17 started\n",
      "Thread-18 started\n",
      "Thread-19 started\n",
      "Thread-20 started\n",
      "Thread-21 started\n",
      "Thread-22 started\n",
      "Thread-23 started\n",
      "Thread-24 started\n",
      "Thread-25 started\n",
      "Thread-25 finished\n",
      "Thread-18 finished\n",
      "Thread-6 finished\n",
      "Thread-5 finished\n",
      "Thread-12 finished\n",
      "Thread-15 finished\n",
      "Thread-19 finished\n",
      "Thread-8 finished\n",
      "Thread-9 finished\n",
      "Thread-23 finished\n",
      "Thread-24 finished\n",
      "Thread-11 finished\n",
      "Thread-7 finished\n",
      "Thread-10 finished\n",
      "Thread-14 finished\n",
      "Thread-13 finished\n",
      "Thread-22 finished\n",
      "Thread-21 finished\n",
      "Thread-20 finished\n",
      "Thread-17 finished\n",
      "Thread-16 finished\n"
     ]
    }
   ],
   "source": [
    "train_x, train_y =get_training_data()"
   ]
  },
  {
   "cell_type": "code",
   "execution_count": 21,
   "id": "572e2249",
   "metadata": {
    "execution": {
     "iopub.execute_input": "2022-11-07T22:59:06.276086Z",
     "iopub.status.busy": "2022-11-07T22:59:06.275215Z",
     "iopub.status.idle": "2022-11-07T22:59:18.330714Z",
     "shell.execute_reply": "2022-11-07T22:59:18.330003Z"
    },
    "papermill": {
     "duration": 12.066856,
     "end_time": "2022-11-07T22:59:18.332921",
     "exception": false,
     "start_time": "2022-11-07T22:59:06.266065",
     "status": "completed"
    },
    "tags": []
   },
   "outputs": [
    {
     "name": "stdout",
     "output_type": "stream",
     "text": [
      "num of threads: 21\n",
      "getting testing data....\n",
      "Thread-26 started\n",
      "Thread-27 started\n",
      "Thread-28 started\n",
      "Thread-29 started\n",
      "Thread-30 started\n",
      "Thread-31 started\n",
      "Thread-32 started\n",
      "Thread-33 started\n",
      "Thread-34 started\n",
      "Thread-35 started\n",
      "Thread-36 started\n",
      "Thread-37 started\n",
      "Thread-38 started\n",
      "Thread-39 started\n",
      "Thread-40 started\n",
      "Thread-41 started\n",
      "Thread-42 started\n",
      "Thread-43 started\n",
      "Thread-44 started\n",
      "Thread-45 started\n",
      "Thread-46 started\n",
      "Thread-46 finished\n",
      "Thread-26 finished\n",
      "Thread-27 finished\n",
      "Thread-36 finished\n",
      "Thread-41 finished\n",
      "Thread-38 finished\n",
      "Thread-34 finished\n",
      "Thread-31 finished\n",
      "Thread-39 finished\n",
      "Thread-28 finished\n",
      "Thread-32 finished\n",
      "Thread-35 finished\n",
      "Thread-40 finished\n",
      "Thread-44 finished\n",
      "Thread-30 finished\n",
      "Thread-29 finished\n",
      "Thread-33 finished\n",
      "Thread-43 finished\n",
      "Thread-45 finished\n",
      "Thread-37 finished\n",
      "Thread-42 finished\n"
     ]
    }
   ],
   "source": [
    "test_x, test_img_ids = get_testing_data()"
   ]
  },
  {
   "cell_type": "code",
   "execution_count": 22,
   "id": "2e912c19",
   "metadata": {
    "execution": {
     "iopub.execute_input": "2022-11-07T22:59:18.351319Z",
     "iopub.status.busy": "2022-11-07T22:59:18.350417Z",
     "iopub.status.idle": "2022-11-07T22:59:18.358524Z",
     "shell.execute_reply": "2022-11-07T22:59:18.357437Z"
    },
    "papermill": {
     "duration": 0.019601,
     "end_time": "2022-11-07T22:59:18.360943",
     "exception": false,
     "start_time": "2022-11-07T22:59:18.341342",
     "status": "completed"
    },
    "tags": []
   },
   "outputs": [
    {
     "name": "stdout",
     "output_type": "stream",
     "text": [
      "(10222, 150, 150, 3)\n",
      "(10222, 120)\n",
      "(10357, 150, 150, 3)\n",
      "10357\n"
     ]
    }
   ],
   "source": [
    "print(train_x.shape)\n",
    "print(train_y.shape)\n",
    "print(test_x.shape)\n",
    "print(len(test_img_ids))"
   ]
  },
  {
   "cell_type": "code",
   "execution_count": 23,
   "id": "458ca076",
   "metadata": {
    "execution": {
     "iopub.execute_input": "2022-11-07T22:59:18.378985Z",
     "iopub.status.busy": "2022-11-07T22:59:18.378186Z",
     "iopub.status.idle": "2022-11-07T22:59:23.655264Z",
     "shell.execute_reply": "2022-11-07T22:59:23.654567Z"
    },
    "papermill": {
     "duration": 5.288268,
     "end_time": "2022-11-07T22:59:23.657397",
     "exception": false,
     "start_time": "2022-11-07T22:59:18.369129",
     "status": "completed"
    },
    "tags": []
   },
   "outputs": [],
   "source": [
    "# import required packages\n",
    "from keras.models import Sequential\n",
    "from keras.layers import Dense, Dropout, Activation, Flatten, BatchNormalization\n",
    "from keras.layers import Conv2D, MaxPooling2D\n",
    "from keras.utils import np_utils"
   ]
  },
  {
   "cell_type": "code",
   "execution_count": 24,
   "id": "b83d8166",
   "metadata": {
    "execution": {
     "iopub.execute_input": "2022-11-07T22:59:23.675597Z",
     "iopub.status.busy": "2022-11-07T22:59:23.675084Z",
     "iopub.status.idle": "2022-11-07T22:59:23.907935Z",
     "shell.execute_reply": "2022-11-07T22:59:23.907034Z"
    },
    "papermill": {
     "duration": 0.244494,
     "end_time": "2022-11-07T22:59:23.910317",
     "exception": false,
     "start_time": "2022-11-07T22:59:23.665823",
     "status": "completed"
    },
    "tags": []
   },
   "outputs": [
    {
     "name": "stderr",
     "output_type": "stream",
     "text": [
      "2022-11-07 22:59:23.712752: I tensorflow/core/common_runtime/process_util.cc:146] Creating new thread pool with default inter op setting: 2. Tune using inter_op_parallelism_threads for best performance.\n"
     ]
    }
   ],
   "source": [
    "# CNN model\n",
    "model = Sequential()\n",
    "\n",
    "# -----------------------------------------------------------------------------------\n",
    "# conv 1\n",
    "model.add(Conv2D(16, (3,3), input_shape=(IMG_HEIGHT, IMG_WIDTH, IMG_CHANNELS)))       # input -N,150,150,3, output- N,148,148,16\n",
    "model.add(BatchNormalization(axis=3))\n",
    "model.add(Activation('relu'))\n",
    "#model.add(Dropout(0.5))\n",
    "\n",
    "# max pool 1\n",
    "model.add(MaxPooling2D(pool_size=(2,2),strides=2))                                   #input- N,148,148,16, output- N, 74,74,16\n",
    "\n",
    "# -----------------------------------------------------------------------------------\n",
    "# # conv 2\n",
    "model.add(Conv2D(32, (3,3)))                                                         #input- N,74,74,16 output - N, 72,72,16\n",
    "model.add(BatchNormalization(axis=3))\n",
    "model.add(Activation('relu'))\n",
    "#model.add(Dropout(0.5))\n",
    "\n",
    "# max pool 2\n",
    "model.add(MaxPooling2D(pool_size=(2,2),strides=2))                                 #input - N,72,72,16, output- N,36,36,16\n",
    "# -----------------------------------------------------------------------------------\n",
    "\n",
    "# conv 3\n",
    "model.add(Conv2D(48, (3,3)))                                                       #input - N,36,36,16, output- N,34,34,32\n",
    "model.add(BatchNormalization(axis=3))\n",
    "model.add(Activation('relu'))\n",
    "#model.add(Dropout(0.7))\n",
    "\n",
    "# max pool 3\n",
    "model.add(MaxPooling2D(pool_size=(2,2),strides=2))                                #input- N,34,34,32, output- N,17,17,32\n",
    "# -----------------------------------------------------------------------------------\n",
    "\n",
    "# # conv 4\n",
    "model.add(Conv2D(64, (3,3)))                                                     #input- N,17,17,32, output- N,15,15,32\n",
    "model.add(BatchNormalization(axis=3))\n",
    "model.add(Activation('relu'))\n",
    "#model.add(Dropout(0.7))\n",
    "# max pool 4\n",
    "model.add(MaxPooling2D(pool_size=(2,2),strides=2))                              #input- N,15,15,32, output- N,7,7,32\n",
    "\n",
    "# flatten\n",
    "model.add(Flatten())                                                            # output- 1568\n",
    "\n",
    "# fc layer 1\n",
    "model.add(Dense(1024, activation='relu'))                                  \n",
    "\n",
    "# fc layer 2\n",
    "model.add(Dense(512, activation='relu'))\n",
    "\n",
    "# fc layer 3\n",
    "model.add(Dense(256, activation='relu'))\n",
    "\n",
    "# fc layer 4\n",
    "model.add(Dense(120, activation='softmax'))"
   ]
  },
  {
   "cell_type": "code",
   "execution_count": 25,
   "id": "22498c81",
   "metadata": {
    "execution": {
     "iopub.execute_input": "2022-11-07T22:59:23.929887Z",
     "iopub.status.busy": "2022-11-07T22:59:23.929613Z",
     "iopub.status.idle": "2022-11-07T22:59:23.937134Z",
     "shell.execute_reply": "2022-11-07T22:59:23.936056Z"
    },
    "papermill": {
     "duration": 0.019661,
     "end_time": "2022-11-07T22:59:23.939559",
     "exception": false,
     "start_time": "2022-11-07T22:59:23.919898",
     "status": "completed"
    },
    "tags": []
   },
   "outputs": [
    {
     "name": "stdout",
     "output_type": "stream",
     "text": [
      "Model: \"sequential\"\n",
      "_________________________________________________________________\n",
      "Layer (type)                 Output Shape              Param #   \n",
      "=================================================================\n",
      "conv2d (Conv2D)              (None, 148, 148, 16)      448       \n",
      "_________________________________________________________________\n",
      "batch_normalization (BatchNo (None, 148, 148, 16)      64        \n",
      "_________________________________________________________________\n",
      "activation (Activation)      (None, 148, 148, 16)      0         \n",
      "_________________________________________________________________\n",
      "max_pooling2d (MaxPooling2D) (None, 74, 74, 16)        0         \n",
      "_________________________________________________________________\n",
      "conv2d_1 (Conv2D)            (None, 72, 72, 32)        4640      \n",
      "_________________________________________________________________\n",
      "batch_normalization_1 (Batch (None, 72, 72, 32)        128       \n",
      "_________________________________________________________________\n",
      "activation_1 (Activation)    (None, 72, 72, 32)        0         \n",
      "_________________________________________________________________\n",
      "max_pooling2d_1 (MaxPooling2 (None, 36, 36, 32)        0         \n",
      "_________________________________________________________________\n",
      "conv2d_2 (Conv2D)            (None, 34, 34, 48)        13872     \n",
      "_________________________________________________________________\n",
      "batch_normalization_2 (Batch (None, 34, 34, 48)        192       \n",
      "_________________________________________________________________\n",
      "activation_2 (Activation)    (None, 34, 34, 48)        0         \n",
      "_________________________________________________________________\n",
      "max_pooling2d_2 (MaxPooling2 (None, 17, 17, 48)        0         \n",
      "_________________________________________________________________\n",
      "conv2d_3 (Conv2D)            (None, 15, 15, 64)        27712     \n",
      "_________________________________________________________________\n",
      "batch_normalization_3 (Batch (None, 15, 15, 64)        256       \n",
      "_________________________________________________________________\n",
      "activation_3 (Activation)    (None, 15, 15, 64)        0         \n",
      "_________________________________________________________________\n",
      "max_pooling2d_3 (MaxPooling2 (None, 7, 7, 64)          0         \n",
      "_________________________________________________________________\n",
      "flatten (Flatten)            (None, 3136)              0         \n",
      "_________________________________________________________________\n",
      "dense (Dense)                (None, 1024)              3212288   \n",
      "_________________________________________________________________\n",
      "dense_1 (Dense)              (None, 512)               524800    \n",
      "_________________________________________________________________\n",
      "dense_2 (Dense)              (None, 256)               131328    \n",
      "_________________________________________________________________\n",
      "dense_3 (Dense)              (None, 120)               30840     \n",
      "=================================================================\n",
      "Total params: 3,946,568\n",
      "Trainable params: 3,946,248\n",
      "Non-trainable params: 320\n",
      "_________________________________________________________________\n"
     ]
    }
   ],
   "source": [
    "model.summary()"
   ]
  },
  {
   "cell_type": "code",
   "execution_count": 26,
   "id": "50d5411f",
   "metadata": {
    "execution": {
     "iopub.execute_input": "2022-11-07T22:59:23.958577Z",
     "iopub.status.busy": "2022-11-07T22:59:23.958234Z",
     "iopub.status.idle": "2022-11-07T22:59:23.970685Z",
     "shell.execute_reply": "2022-11-07T22:59:23.969808Z"
    },
    "papermill": {
     "duration": 0.023501,
     "end_time": "2022-11-07T22:59:23.972494",
     "exception": false,
     "start_time": "2022-11-07T22:59:23.948993",
     "status": "completed"
    },
    "tags": []
   },
   "outputs": [],
   "source": [
    "# compile model for with softmax cross entropy and adam optimizer, set accuracy as parameter to evaluate\n",
    "model.compile(loss='categorical_crossentropy',\n",
    "              optimizer='adam',\n",
    "              metrics=['accuracy'])"
   ]
  },
  {
   "cell_type": "code",
   "execution_count": 27,
   "id": "ae5e53cf",
   "metadata": {
    "execution": {
     "iopub.execute_input": "2022-11-07T22:59:23.990885Z",
     "iopub.status.busy": "2022-11-07T22:59:23.990550Z",
     "iopub.status.idle": "2022-11-07T23:16:53.214226Z",
     "shell.execute_reply": "2022-11-07T23:16:53.212277Z"
    },
    "papermill": {
     "duration": 1049.235212,
     "end_time": "2022-11-07T23:16:53.216287",
     "exception": false,
     "start_time": "2022-11-07T22:59:23.981075",
     "status": "completed"
    },
    "tags": []
   },
   "outputs": [
    {
     "name": "stderr",
     "output_type": "stream",
     "text": [
      "2022-11-07 22:59:25.929138: I tensorflow/compiler/mlir/mlir_graph_optimization_pass.cc:185] None of the MLIR Optimization Passes are enabled (registered 2)\n"
     ]
    },
    {
     "name": "stdout",
     "output_type": "stream",
     "text": [
      "Epoch 1/20\n",
      "320/320 [==============================] - 56s 171ms/step - loss: 4.7148 - accuracy: 0.0214\n",
      "Epoch 2/20\n",
      "320/320 [==============================] - 52s 164ms/step - loss: 4.4019 - accuracy: 0.0414\n",
      "Epoch 3/20\n",
      "320/320 [==============================] - 52s 163ms/step - loss: 4.2056 - accuracy: 0.0542\n",
      "Epoch 4/20\n",
      "320/320 [==============================] - 52s 164ms/step - loss: 4.0240 - accuracy: 0.0776\n",
      "Epoch 5/20\n",
      "320/320 [==============================] - 52s 163ms/step - loss: 3.8560 - accuracy: 0.0975\n",
      "Epoch 6/20\n",
      "320/320 [==============================] - 52s 161ms/step - loss: 3.6708 - accuracy: 0.1201\n",
      "Epoch 7/20\n",
      "320/320 [==============================] - 52s 163ms/step - loss: 3.4765 - accuracy: 0.1516\n",
      "Epoch 8/20\n",
      "320/320 [==============================] - 52s 163ms/step - loss: 3.2836 - accuracy: 0.1852\n",
      "Epoch 9/20\n",
      "320/320 [==============================] - 52s 163ms/step - loss: 3.0452 - accuracy: 0.2257\n",
      "Epoch 10/20\n",
      "320/320 [==============================] - 53s 164ms/step - loss: 2.8133 - accuracy: 0.2726\n",
      "Epoch 11/20\n",
      "320/320 [==============================] - 52s 164ms/step - loss: 2.5503 - accuracy: 0.3216\n",
      "Epoch 12/20\n",
      "320/320 [==============================] - 52s 161ms/step - loss: 2.2509 - accuracy: 0.3925\n",
      "Epoch 13/20\n",
      "320/320 [==============================] - 53s 164ms/step - loss: 1.9581 - accuracy: 0.4487\n",
      "Epoch 14/20\n",
      "320/320 [==============================] - 52s 163ms/step - loss: 1.6706 - accuracy: 0.5260\n",
      "Epoch 15/20\n",
      "320/320 [==============================] - 52s 162ms/step - loss: 1.3828 - accuracy: 0.6014\n",
      "Epoch 16/20\n",
      "320/320 [==============================] - 53s 164ms/step - loss: 1.1419 - accuracy: 0.6636\n",
      "Epoch 17/20\n",
      "320/320 [==============================] - 52s 163ms/step - loss: 0.9306 - accuracy: 0.7215\n",
      "Epoch 18/20\n",
      "320/320 [==============================] - 52s 161ms/step - loss: 0.7637 - accuracy: 0.7698\n",
      "Epoch 19/20\n",
      "320/320 [==============================] - 52s 163ms/step - loss: 0.6147 - accuracy: 0.8116\n",
      "Epoch 20/20\n",
      "320/320 [==============================] - 52s 163ms/step - loss: 0.4845 - accuracy: 0.8553\n"
     ]
    }
   ],
   "source": [
    "# train model on training data\n",
    "model_hist = model.fit(train_x, train_y, batch_size=32, epochs=20, verbose=1)"
   ]
  },
  {
   "cell_type": "code",
   "execution_count": 28,
   "id": "054b7042",
   "metadata": {
    "execution": {
     "iopub.execute_input": "2022-11-07T23:16:53.943137Z",
     "iopub.status.busy": "2022-11-07T23:16:53.942412Z",
     "iopub.status.idle": "2022-11-07T23:17:13.593888Z",
     "shell.execute_reply": "2022-11-07T23:17:13.593216Z"
    },
    "papermill": {
     "duration": 20.020717,
     "end_time": "2022-11-07T23:17:13.595797",
     "exception": false,
     "start_time": "2022-11-07T23:16:53.575080",
     "status": "completed"
    },
    "tags": []
   },
   "outputs": [
    {
     "name": "stdout",
     "output_type": "stream",
     "text": [
      "324/324 [==============================] - 17s 51ms/step\n"
     ]
    }
   ],
   "source": [
    "predictions = model.predict(test_x, batch_size=32, verbose=1)"
   ]
  },
  {
   "cell_type": "code",
   "execution_count": 29,
   "id": "b973c2a7",
   "metadata": {
    "execution": {
     "iopub.execute_input": "2022-11-07T23:17:14.396271Z",
     "iopub.status.busy": "2022-11-07T23:17:14.395907Z",
     "iopub.status.idle": "2022-11-07T23:17:14.401271Z",
     "shell.execute_reply": "2022-11-07T23:17:14.400219Z"
    },
    "papermill": {
     "duration": 0.37139,
     "end_time": "2022-11-07T23:17:14.403370",
     "exception": false,
     "start_time": "2022-11-07T23:17:14.031980",
     "status": "completed"
    },
    "tags": []
   },
   "outputs": [
    {
     "name": "stdout",
     "output_type": "stream",
     "text": [
      "(10357, 120)\n",
      "120\n"
     ]
    }
   ],
   "source": [
    "print(predictions.shape)\n",
    "print(len(dog_breeds))"
   ]
  },
  {
   "cell_type": "code",
   "execution_count": 30,
   "id": "7d02493a",
   "metadata": {
    "execution": {
     "iopub.execute_input": "2022-11-07T23:17:15.144208Z",
     "iopub.status.busy": "2022-11-07T23:17:15.143603Z",
     "iopub.status.idle": "2022-11-07T23:17:16.372247Z",
     "shell.execute_reply": "2022-11-07T23:17:16.371362Z"
    },
    "papermill": {
     "duration": 1.598619,
     "end_time": "2022-11-07T23:17:16.374626",
     "exception": false,
     "start_time": "2022-11-07T23:17:14.776007",
     "status": "completed"
    },
    "tags": []
   },
   "outputs": [
    {
     "data": {
      "text/html": [
       "<div>\n",
       "<style scoped>\n",
       "    .dataframe tbody tr th:only-of-type {\n",
       "        vertical-align: middle;\n",
       "    }\n",
       "\n",
       "    .dataframe tbody tr th {\n",
       "        vertical-align: top;\n",
       "    }\n",
       "\n",
       "    .dataframe thead th {\n",
       "        text-align: right;\n",
       "    }\n",
       "</style>\n",
       "<table border=\"1\" class=\"dataframe\">\n",
       "  <thead>\n",
       "    <tr style=\"text-align: right;\">\n",
       "      <th></th>\n",
       "      <th>id</th>\n",
       "      <th>affenpinscher</th>\n",
       "      <th>afghan_hound</th>\n",
       "      <th>african_hunting_dog</th>\n",
       "      <th>airedale</th>\n",
       "      <th>american_staffordshire_terrier</th>\n",
       "      <th>appenzeller</th>\n",
       "      <th>australian_terrier</th>\n",
       "      <th>basenji</th>\n",
       "      <th>basset</th>\n",
       "      <th>...</th>\n",
       "      <th>toy_poodle</th>\n",
       "      <th>toy_terrier</th>\n",
       "      <th>vizsla</th>\n",
       "      <th>walker_hound</th>\n",
       "      <th>weimaraner</th>\n",
       "      <th>welsh_springer_spaniel</th>\n",
       "      <th>west_highland_white_terrier</th>\n",
       "      <th>whippet</th>\n",
       "      <th>wire-haired_fox_terrier</th>\n",
       "      <th>yorkshire_terrier</th>\n",
       "    </tr>\n",
       "  </thead>\n",
       "  <tbody>\n",
       "    <tr>\n",
       "      <th>0</th>\n",
       "      <td>09e51e17e2b756ff2ace8a87bd1443fa</td>\n",
       "      <td>2.839192e-09</td>\n",
       "      <td>3.451655e-04</td>\n",
       "      <td>2.753675e-03</td>\n",
       "      <td>3.877028e-07</td>\n",
       "      <td>8.984754e-06</td>\n",
       "      <td>3.020998e-15</td>\n",
       "      <td>8.416278e-07</td>\n",
       "      <td>1.307453e-06</td>\n",
       "      <td>9.597786e-07</td>\n",
       "      <td>...</td>\n",
       "      <td>3.589998e-06</td>\n",
       "      <td>2.492839e-07</td>\n",
       "      <td>3.069149e-09</td>\n",
       "      <td>7.086798e-07</td>\n",
       "      <td>2.596388e-03</td>\n",
       "      <td>1.226619e-05</td>\n",
       "      <td>1.131287e-05</td>\n",
       "      <td>2.999909e-02</td>\n",
       "      <td>1.451220e-04</td>\n",
       "      <td>1.997639e-07</td>\n",
       "    </tr>\n",
       "    <tr>\n",
       "      <th>1</th>\n",
       "      <td>56eef5133aeac23ce93a07e43be7d22f</td>\n",
       "      <td>2.412674e-14</td>\n",
       "      <td>2.326727e-12</td>\n",
       "      <td>1.830225e-10</td>\n",
       "      <td>2.218899e-07</td>\n",
       "      <td>7.018526e-14</td>\n",
       "      <td>3.813891e-18</td>\n",
       "      <td>5.663180e-03</td>\n",
       "      <td>1.462709e-09</td>\n",
       "      <td>2.483815e-07</td>\n",
       "      <td>...</td>\n",
       "      <td>9.356164e-07</td>\n",
       "      <td>1.855845e-06</td>\n",
       "      <td>9.745362e-09</td>\n",
       "      <td>1.103746e-10</td>\n",
       "      <td>1.175196e-07</td>\n",
       "      <td>1.321511e-08</td>\n",
       "      <td>1.092664e-19</td>\n",
       "      <td>1.123342e-08</td>\n",
       "      <td>9.896335e-13</td>\n",
       "      <td>8.559925e-03</td>\n",
       "    </tr>\n",
       "    <tr>\n",
       "      <th>2</th>\n",
       "      <td>d6487ec0c82b85e4db6e9b57a69b7587</td>\n",
       "      <td>5.495641e-02</td>\n",
       "      <td>6.314468e-07</td>\n",
       "      <td>3.686154e-04</td>\n",
       "      <td>1.327258e-09</td>\n",
       "      <td>4.173014e-08</td>\n",
       "      <td>1.687474e-09</td>\n",
       "      <td>1.310165e-08</td>\n",
       "      <td>5.193287e-09</td>\n",
       "      <td>1.660111e-07</td>\n",
       "      <td>...</td>\n",
       "      <td>1.570099e-06</td>\n",
       "      <td>1.284374e-06</td>\n",
       "      <td>1.527514e-07</td>\n",
       "      <td>1.120431e-09</td>\n",
       "      <td>4.641067e-01</td>\n",
       "      <td>1.146493e-10</td>\n",
       "      <td>1.219507e-11</td>\n",
       "      <td>3.335257e-06</td>\n",
       "      <td>1.963244e-07</td>\n",
       "      <td>1.834938e-06</td>\n",
       "    </tr>\n",
       "    <tr>\n",
       "      <th>3</th>\n",
       "      <td>0eb22da796bce296261373cfc4f3c2c8</td>\n",
       "      <td>2.090162e-12</td>\n",
       "      <td>8.246293e-09</td>\n",
       "      <td>1.332261e-10</td>\n",
       "      <td>2.971562e-10</td>\n",
       "      <td>1.069892e-06</td>\n",
       "      <td>1.858152e-17</td>\n",
       "      <td>1.134135e-08</td>\n",
       "      <td>2.991833e-12</td>\n",
       "      <td>3.952737e-13</td>\n",
       "      <td>...</td>\n",
       "      <td>1.910920e-04</td>\n",
       "      <td>4.512136e-13</td>\n",
       "      <td>1.059952e-12</td>\n",
       "      <td>3.350451e-12</td>\n",
       "      <td>2.925991e-05</td>\n",
       "      <td>4.464807e-11</td>\n",
       "      <td>1.771437e-01</td>\n",
       "      <td>8.648353e-06</td>\n",
       "      <td>3.433820e-06</td>\n",
       "      <td>4.652510e-05</td>\n",
       "    </tr>\n",
       "    <tr>\n",
       "      <th>4</th>\n",
       "      <td>230a6fb01dffd20c3f51ac7261ed0c68</td>\n",
       "      <td>5.261115e-06</td>\n",
       "      <td>1.544125e-03</td>\n",
       "      <td>2.365612e-03</td>\n",
       "      <td>1.164066e-04</td>\n",
       "      <td>1.411720e-05</td>\n",
       "      <td>2.644368e-10</td>\n",
       "      <td>4.308083e-02</td>\n",
       "      <td>4.297225e-08</td>\n",
       "      <td>9.603519e-06</td>\n",
       "      <td>...</td>\n",
       "      <td>7.261063e-03</td>\n",
       "      <td>4.885868e-07</td>\n",
       "      <td>3.739473e-06</td>\n",
       "      <td>2.027906e-07</td>\n",
       "      <td>2.394093e-03</td>\n",
       "      <td>3.189786e-08</td>\n",
       "      <td>1.455230e-06</td>\n",
       "      <td>2.416667e-07</td>\n",
       "      <td>3.309084e-04</td>\n",
       "      <td>1.834862e-03</td>\n",
       "    </tr>\n",
       "    <tr>\n",
       "      <th>...</th>\n",
       "      <td>...</td>\n",
       "      <td>...</td>\n",
       "      <td>...</td>\n",
       "      <td>...</td>\n",
       "      <td>...</td>\n",
       "      <td>...</td>\n",
       "      <td>...</td>\n",
       "      <td>...</td>\n",
       "      <td>...</td>\n",
       "      <td>...</td>\n",
       "      <td>...</td>\n",
       "      <td>...</td>\n",
       "      <td>...</td>\n",
       "      <td>...</td>\n",
       "      <td>...</td>\n",
       "      <td>...</td>\n",
       "      <td>...</td>\n",
       "      <td>...</td>\n",
       "      <td>...</td>\n",
       "      <td>...</td>\n",
       "      <td>...</td>\n",
       "    </tr>\n",
       "    <tr>\n",
       "      <th>10352</th>\n",
       "      <td>3706f3983a0e8ad6772d343796ec8c06</td>\n",
       "      <td>1.002852e-09</td>\n",
       "      <td>1.420445e-08</td>\n",
       "      <td>1.539450e-06</td>\n",
       "      <td>1.072825e-09</td>\n",
       "      <td>3.598346e-05</td>\n",
       "      <td>1.873731e-06</td>\n",
       "      <td>1.785269e-13</td>\n",
       "      <td>2.711143e-05</td>\n",
       "      <td>2.264881e-07</td>\n",
       "      <td>...</td>\n",
       "      <td>7.129923e-13</td>\n",
       "      <td>1.725806e-03</td>\n",
       "      <td>1.764478e-15</td>\n",
       "      <td>2.330949e-02</td>\n",
       "      <td>3.875963e-07</td>\n",
       "      <td>5.242125e-04</td>\n",
       "      <td>1.012305e-06</td>\n",
       "      <td>2.553910e-04</td>\n",
       "      <td>9.404458e-05</td>\n",
       "      <td>2.274418e-09</td>\n",
       "    </tr>\n",
       "    <tr>\n",
       "      <th>10353</th>\n",
       "      <td>81d8b3e2791c6ec14f67b7069874ac60</td>\n",
       "      <td>2.871580e-14</td>\n",
       "      <td>1.647564e-09</td>\n",
       "      <td>8.861170e-07</td>\n",
       "      <td>5.529173e-07</td>\n",
       "      <td>2.168753e-10</td>\n",
       "      <td>1.397749e-04</td>\n",
       "      <td>4.019907e-06</td>\n",
       "      <td>1.160765e-07</td>\n",
       "      <td>1.371868e-09</td>\n",
       "      <td>...</td>\n",
       "      <td>2.363863e-18</td>\n",
       "      <td>9.745569e-07</td>\n",
       "      <td>1.430677e-10</td>\n",
       "      <td>2.222364e-11</td>\n",
       "      <td>9.437226e-15</td>\n",
       "      <td>1.788200e-08</td>\n",
       "      <td>6.061746e-17</td>\n",
       "      <td>2.505483e-06</td>\n",
       "      <td>5.036135e-15</td>\n",
       "      <td>2.049981e-09</td>\n",
       "    </tr>\n",
       "    <tr>\n",
       "      <th>10354</th>\n",
       "      <td>0f407611b8b63474157e3de80b4c01bd</td>\n",
       "      <td>1.791441e-10</td>\n",
       "      <td>8.288912e-07</td>\n",
       "      <td>8.066760e-08</td>\n",
       "      <td>4.743705e-06</td>\n",
       "      <td>1.502774e-08</td>\n",
       "      <td>5.581155e-18</td>\n",
       "      <td>2.010095e-05</td>\n",
       "      <td>4.027954e-10</td>\n",
       "      <td>1.024172e-11</td>\n",
       "      <td>...</td>\n",
       "      <td>8.830114e-04</td>\n",
       "      <td>1.855512e-12</td>\n",
       "      <td>1.008446e-08</td>\n",
       "      <td>3.110384e-13</td>\n",
       "      <td>1.854813e-06</td>\n",
       "      <td>5.302296e-10</td>\n",
       "      <td>1.733110e-05</td>\n",
       "      <td>2.766835e-07</td>\n",
       "      <td>2.866426e-06</td>\n",
       "      <td>4.423119e-05</td>\n",
       "    </tr>\n",
       "    <tr>\n",
       "      <th>10355</th>\n",
       "      <td>7895d82a63edc46d8a450dc4a651c37e</td>\n",
       "      <td>1.008148e-08</td>\n",
       "      <td>1.481667e-02</td>\n",
       "      <td>1.411673e-03</td>\n",
       "      <td>4.382647e-04</td>\n",
       "      <td>1.004551e-05</td>\n",
       "      <td>3.354545e-07</td>\n",
       "      <td>1.116349e-04</td>\n",
       "      <td>3.025066e-05</td>\n",
       "      <td>2.464482e-05</td>\n",
       "      <td>...</td>\n",
       "      <td>6.521733e-06</td>\n",
       "      <td>5.172695e-05</td>\n",
       "      <td>2.120332e-06</td>\n",
       "      <td>6.846943e-03</td>\n",
       "      <td>1.460625e-02</td>\n",
       "      <td>6.399645e-04</td>\n",
       "      <td>6.721785e-09</td>\n",
       "      <td>8.320195e-03</td>\n",
       "      <td>7.115190e-07</td>\n",
       "      <td>1.941188e-05</td>\n",
       "    </tr>\n",
       "    <tr>\n",
       "      <th>10356</th>\n",
       "      <td>3bb33b3c3e9edd464b3fed1407ecfd19</td>\n",
       "      <td>2.463456e-02</td>\n",
       "      <td>7.414833e-05</td>\n",
       "      <td>1.218862e-05</td>\n",
       "      <td>3.142624e-09</td>\n",
       "      <td>4.415996e-06</td>\n",
       "      <td>5.681238e-10</td>\n",
       "      <td>4.898987e-06</td>\n",
       "      <td>2.740509e-15</td>\n",
       "      <td>3.416960e-15</td>\n",
       "      <td>...</td>\n",
       "      <td>1.372911e-03</td>\n",
       "      <td>2.718502e-12</td>\n",
       "      <td>6.836894e-12</td>\n",
       "      <td>8.976439e-13</td>\n",
       "      <td>6.739280e-03</td>\n",
       "      <td>9.199015e-15</td>\n",
       "      <td>7.259297e-09</td>\n",
       "      <td>7.402069e-08</td>\n",
       "      <td>8.138197e-07</td>\n",
       "      <td>1.287583e-04</td>\n",
       "    </tr>\n",
       "  </tbody>\n",
       "</table>\n",
       "<p>10357 rows × 121 columns</p>\n",
       "</div>"
      ],
      "text/plain": [
       "                                     id  affenpinscher  afghan_hound  \\\n",
       "0      09e51e17e2b756ff2ace8a87bd1443fa   2.839192e-09  3.451655e-04   \n",
       "1      56eef5133aeac23ce93a07e43be7d22f   2.412674e-14  2.326727e-12   \n",
       "2      d6487ec0c82b85e4db6e9b57a69b7587   5.495641e-02  6.314468e-07   \n",
       "3      0eb22da796bce296261373cfc4f3c2c8   2.090162e-12  8.246293e-09   \n",
       "4      230a6fb01dffd20c3f51ac7261ed0c68   5.261115e-06  1.544125e-03   \n",
       "...                                 ...            ...           ...   \n",
       "10352  3706f3983a0e8ad6772d343796ec8c06   1.002852e-09  1.420445e-08   \n",
       "10353  81d8b3e2791c6ec14f67b7069874ac60   2.871580e-14  1.647564e-09   \n",
       "10354  0f407611b8b63474157e3de80b4c01bd   1.791441e-10  8.288912e-07   \n",
       "10355  7895d82a63edc46d8a450dc4a651c37e   1.008148e-08  1.481667e-02   \n",
       "10356  3bb33b3c3e9edd464b3fed1407ecfd19   2.463456e-02  7.414833e-05   \n",
       "\n",
       "       african_hunting_dog      airedale  american_staffordshire_terrier  \\\n",
       "0             2.753675e-03  3.877028e-07                    8.984754e-06   \n",
       "1             1.830225e-10  2.218899e-07                    7.018526e-14   \n",
       "2             3.686154e-04  1.327258e-09                    4.173014e-08   \n",
       "3             1.332261e-10  2.971562e-10                    1.069892e-06   \n",
       "4             2.365612e-03  1.164066e-04                    1.411720e-05   \n",
       "...                    ...           ...                             ...   \n",
       "10352         1.539450e-06  1.072825e-09                    3.598346e-05   \n",
       "10353         8.861170e-07  5.529173e-07                    2.168753e-10   \n",
       "10354         8.066760e-08  4.743705e-06                    1.502774e-08   \n",
       "10355         1.411673e-03  4.382647e-04                    1.004551e-05   \n",
       "10356         1.218862e-05  3.142624e-09                    4.415996e-06   \n",
       "\n",
       "        appenzeller  australian_terrier       basenji        basset  ...  \\\n",
       "0      3.020998e-15        8.416278e-07  1.307453e-06  9.597786e-07  ...   \n",
       "1      3.813891e-18        5.663180e-03  1.462709e-09  2.483815e-07  ...   \n",
       "2      1.687474e-09        1.310165e-08  5.193287e-09  1.660111e-07  ...   \n",
       "3      1.858152e-17        1.134135e-08  2.991833e-12  3.952737e-13  ...   \n",
       "4      2.644368e-10        4.308083e-02  4.297225e-08  9.603519e-06  ...   \n",
       "...             ...                 ...           ...           ...  ...   \n",
       "10352  1.873731e-06        1.785269e-13  2.711143e-05  2.264881e-07  ...   \n",
       "10353  1.397749e-04        4.019907e-06  1.160765e-07  1.371868e-09  ...   \n",
       "10354  5.581155e-18        2.010095e-05  4.027954e-10  1.024172e-11  ...   \n",
       "10355  3.354545e-07        1.116349e-04  3.025066e-05  2.464482e-05  ...   \n",
       "10356  5.681238e-10        4.898987e-06  2.740509e-15  3.416960e-15  ...   \n",
       "\n",
       "         toy_poodle   toy_terrier        vizsla  walker_hound    weimaraner  \\\n",
       "0      3.589998e-06  2.492839e-07  3.069149e-09  7.086798e-07  2.596388e-03   \n",
       "1      9.356164e-07  1.855845e-06  9.745362e-09  1.103746e-10  1.175196e-07   \n",
       "2      1.570099e-06  1.284374e-06  1.527514e-07  1.120431e-09  4.641067e-01   \n",
       "3      1.910920e-04  4.512136e-13  1.059952e-12  3.350451e-12  2.925991e-05   \n",
       "4      7.261063e-03  4.885868e-07  3.739473e-06  2.027906e-07  2.394093e-03   \n",
       "...             ...           ...           ...           ...           ...   \n",
       "10352  7.129923e-13  1.725806e-03  1.764478e-15  2.330949e-02  3.875963e-07   \n",
       "10353  2.363863e-18  9.745569e-07  1.430677e-10  2.222364e-11  9.437226e-15   \n",
       "10354  8.830114e-04  1.855512e-12  1.008446e-08  3.110384e-13  1.854813e-06   \n",
       "10355  6.521733e-06  5.172695e-05  2.120332e-06  6.846943e-03  1.460625e-02   \n",
       "10356  1.372911e-03  2.718502e-12  6.836894e-12  8.976439e-13  6.739280e-03   \n",
       "\n",
       "       welsh_springer_spaniel  west_highland_white_terrier       whippet  \\\n",
       "0                1.226619e-05                 1.131287e-05  2.999909e-02   \n",
       "1                1.321511e-08                 1.092664e-19  1.123342e-08   \n",
       "2                1.146493e-10                 1.219507e-11  3.335257e-06   \n",
       "3                4.464807e-11                 1.771437e-01  8.648353e-06   \n",
       "4                3.189786e-08                 1.455230e-06  2.416667e-07   \n",
       "...                       ...                          ...           ...   \n",
       "10352            5.242125e-04                 1.012305e-06  2.553910e-04   \n",
       "10353            1.788200e-08                 6.061746e-17  2.505483e-06   \n",
       "10354            5.302296e-10                 1.733110e-05  2.766835e-07   \n",
       "10355            6.399645e-04                 6.721785e-09  8.320195e-03   \n",
       "10356            9.199015e-15                 7.259297e-09  7.402069e-08   \n",
       "\n",
       "       wire-haired_fox_terrier  yorkshire_terrier  \n",
       "0                 1.451220e-04       1.997639e-07  \n",
       "1                 9.896335e-13       8.559925e-03  \n",
       "2                 1.963244e-07       1.834938e-06  \n",
       "3                 3.433820e-06       4.652510e-05  \n",
       "4                 3.309084e-04       1.834862e-03  \n",
       "...                        ...                ...  \n",
       "10352             9.404458e-05       2.274418e-09  \n",
       "10353             5.036135e-15       2.049981e-09  \n",
       "10354             2.866426e-06       4.423119e-05  \n",
       "10355             7.115190e-07       1.941188e-05  \n",
       "10356             8.138197e-07       1.287583e-04  \n",
       "\n",
       "[10357 rows x 121 columns]"
      ]
     },
     "execution_count": 30,
     "metadata": {},
     "output_type": "execute_result"
    }
   ],
   "source": [
    "import pandas as pd\n",
    "submission_res = pd.DataFrame(data= predictions, index =test_img_ids, columns= dog_breeds)\n",
    "submission_res.index.name = 'id'\n",
    "submission_res.to_csv('submission.csv', encoding='utf-8', index=True)\n",
    "submission_data = pd.read_csv('submission.csv')\n",
    "submission_data"
   ]
  },
  {
   "cell_type": "code",
   "execution_count": 31,
   "id": "09648156",
   "metadata": {
    "execution": {
     "iopub.execute_input": "2022-11-07T23:17:17.168530Z",
     "iopub.status.busy": "2022-11-07T23:17:17.167834Z",
     "iopub.status.idle": "2022-11-07T23:17:17.381485Z",
     "shell.execute_reply": "2022-11-07T23:17:17.380817Z"
    },
    "papermill": {
     "duration": 0.580118,
     "end_time": "2022-11-07T23:17:17.383124",
     "exception": false,
     "start_time": "2022-11-07T23:17:16.803006",
     "status": "completed"
    },
    "tags": []
   },
   "outputs": [
    {
     "data": {
      "image/png": "[encoded data removed]",
      "text/plain": [
       "<Figure size 432x288 with 1 Axes>"
      ]
     },
     "metadata": {
      "needs_background": "light"
     },
     "output_type": "display_data"
    }
   ],
   "source": [
    "# summarize history for accuracy\n",
    "plt.plot(model_hist.history['accuracy'])\n",
    "plt.title('model accuracy')\n",
    "plt.ylabel('accuracy')\n",
    "plt.xlabel('epoch')\n",
    "plt.legend(['train', 'test'], loc='upper left')\n",
    "plt.show()\n"
   ]
  },
  {
   "cell_type": "code",
   "execution_count": 32,
   "id": "275f33be",
   "metadata": {
    "execution": {
     "iopub.execute_input": "2022-11-07T23:17:18.118819Z",
     "iopub.status.busy": "2022-11-07T23:17:18.118512Z",
     "iopub.status.idle": "2022-11-07T23:17:18.263575Z",
     "shell.execute_reply": "2022-11-07T23:17:18.262840Z"
    },
    "papermill": {
     "duration": 0.514264,
     "end_time": "2022-11-07T23:17:18.266139",
     "exception": false,
     "start_time": "2022-11-07T23:17:17.751875",
     "status": "completed"
    },
    "tags": []
   },
   "outputs": [
    {
     "data": {
      "image/png": "[encoded data removed]",
      "text/plain": [
       "<Figure size 432x288 with 1 Axes>"
      ]
     },
     "metadata": {
      "needs_background": "light"
     },
     "output_type": "display_data"
    }
   ],
   "source": [
    "# summarize history for loss\n",
    "plt.plot(model_hist.history['loss'])\n",
    "plt.title('model loss')\n",
    "plt.ylabel('loss')\n",
    "plt.xlabel('epoch')\n",
    "plt.legend(['train', 'test'], loc='upper left')\n",
    "plt.show()"
   ]
  },
  {
   "cell_type": "code",
   "execution_count": 33,
   "id": "27f5f018",
   "metadata": {
    "execution": {
     "iopub.execute_input": "2022-11-07T23:17:19.115595Z",
     "iopub.status.busy": "2022-11-07T23:17:19.115115Z",
     "iopub.status.idle": "2022-11-07T23:17:19.141586Z",
     "shell.execute_reply": "2022-11-07T23:17:19.140511Z"
    },
    "papermill": {
     "duration": 0.471873,
     "end_time": "2022-11-07T23:17:19.143663",
     "exception": false,
     "start_time": "2022-11-07T23:17:18.671790",
     "status": "completed"
    },
    "tags": []
   },
   "outputs": [
    {
     "data": {
      "text/html": [
       "<div>\n",
       "<style scoped>\n",
       "    .dataframe tbody tr th:only-of-type {\n",
       "        vertical-align: middle;\n",
       "    }\n",
       "\n",
       "    .dataframe tbody tr th {\n",
       "        vertical-align: top;\n",
       "    }\n",
       "\n",
       "    .dataframe thead th {\n",
       "        text-align: right;\n",
       "    }\n",
       "</style>\n",
       "<table border=\"1\" class=\"dataframe\">\n",
       "  <thead>\n",
       "    <tr style=\"text-align: right;\">\n",
       "      <th></th>\n",
       "      <th>id</th>\n",
       "      <th>affenpinscher</th>\n",
       "      <th>afghan_hound</th>\n",
       "      <th>african_hunting_dog</th>\n",
       "      <th>airedale</th>\n",
       "      <th>american_staffordshire_terrier</th>\n",
       "      <th>appenzeller</th>\n",
       "      <th>australian_terrier</th>\n",
       "      <th>basenji</th>\n",
       "      <th>basset</th>\n",
       "      <th>...</th>\n",
       "      <th>toy_poodle</th>\n",
       "      <th>toy_terrier</th>\n",
       "      <th>vizsla</th>\n",
       "      <th>walker_hound</th>\n",
       "      <th>weimaraner</th>\n",
       "      <th>welsh_springer_spaniel</th>\n",
       "      <th>west_highland_white_terrier</th>\n",
       "      <th>whippet</th>\n",
       "      <th>wire-haired_fox_terrier</th>\n",
       "      <th>yorkshire_terrier</th>\n",
       "    </tr>\n",
       "  </thead>\n",
       "  <tbody>\n",
       "    <tr>\n",
       "      <th>0</th>\n",
       "      <td>09e51e17e2b756ff2ace8a87bd1443fa</td>\n",
       "      <td>2.839192e-09</td>\n",
       "      <td>3.451655e-04</td>\n",
       "      <td>2.753675e-03</td>\n",
       "      <td>3.877028e-07</td>\n",
       "      <td>8.984754e-06</td>\n",
       "      <td>3.020998e-15</td>\n",
       "      <td>8.416278e-07</td>\n",
       "      <td>1.307453e-06</td>\n",
       "      <td>9.597786e-07</td>\n",
       "      <td>...</td>\n",
       "      <td>3.589998e-06</td>\n",
       "      <td>2.492839e-07</td>\n",
       "      <td>3.069149e-09</td>\n",
       "      <td>7.086798e-07</td>\n",
       "      <td>2.596388e-03</td>\n",
       "      <td>1.226619e-05</td>\n",
       "      <td>1.131287e-05</td>\n",
       "      <td>2.999909e-02</td>\n",
       "      <td>1.451220e-04</td>\n",
       "      <td>1.997639e-07</td>\n",
       "    </tr>\n",
       "    <tr>\n",
       "      <th>1</th>\n",
       "      <td>56eef5133aeac23ce93a07e43be7d22f</td>\n",
       "      <td>2.412674e-14</td>\n",
       "      <td>2.326727e-12</td>\n",
       "      <td>1.830225e-10</td>\n",
       "      <td>2.218899e-07</td>\n",
       "      <td>7.018526e-14</td>\n",
       "      <td>3.813891e-18</td>\n",
       "      <td>5.663180e-03</td>\n",
       "      <td>1.462709e-09</td>\n",
       "      <td>2.483815e-07</td>\n",
       "      <td>...</td>\n",
       "      <td>9.356164e-07</td>\n",
       "      <td>1.855845e-06</td>\n",
       "      <td>9.745362e-09</td>\n",
       "      <td>1.103746e-10</td>\n",
       "      <td>1.175196e-07</td>\n",
       "      <td>1.321511e-08</td>\n",
       "      <td>1.092664e-19</td>\n",
       "      <td>1.123342e-08</td>\n",
       "      <td>9.896335e-13</td>\n",
       "      <td>8.559925e-03</td>\n",
       "    </tr>\n",
       "    <tr>\n",
       "      <th>2</th>\n",
       "      <td>d6487ec0c82b85e4db6e9b57a69b7587</td>\n",
       "      <td>5.495641e-02</td>\n",
       "      <td>6.314468e-07</td>\n",
       "      <td>3.686154e-04</td>\n",
       "      <td>1.327258e-09</td>\n",
       "      <td>4.173014e-08</td>\n",
       "      <td>1.687474e-09</td>\n",
       "      <td>1.310165e-08</td>\n",
       "      <td>5.193287e-09</td>\n",
       "      <td>1.660111e-07</td>\n",
       "      <td>...</td>\n",
       "      <td>1.570099e-06</td>\n",
       "      <td>1.284374e-06</td>\n",
       "      <td>1.527514e-07</td>\n",
       "      <td>1.120431e-09</td>\n",
       "      <td>4.641067e-01</td>\n",
       "      <td>1.146493e-10</td>\n",
       "      <td>1.219507e-11</td>\n",
       "      <td>3.335257e-06</td>\n",
       "      <td>1.963244e-07</td>\n",
       "      <td>1.834938e-06</td>\n",
       "    </tr>\n",
       "    <tr>\n",
       "      <th>3</th>\n",
       "      <td>0eb22da796bce296261373cfc4f3c2c8</td>\n",
       "      <td>2.090162e-12</td>\n",
       "      <td>8.246293e-09</td>\n",
       "      <td>1.332261e-10</td>\n",
       "      <td>2.971562e-10</td>\n",
       "      <td>1.069892e-06</td>\n",
       "      <td>1.858152e-17</td>\n",
       "      <td>1.134135e-08</td>\n",
       "      <td>2.991833e-12</td>\n",
       "      <td>3.952737e-13</td>\n",
       "      <td>...</td>\n",
       "      <td>1.910920e-04</td>\n",
       "      <td>4.512136e-13</td>\n",
       "      <td>1.059952e-12</td>\n",
       "      <td>3.350451e-12</td>\n",
       "      <td>2.925991e-05</td>\n",
       "      <td>4.464807e-11</td>\n",
       "      <td>1.771437e-01</td>\n",
       "      <td>8.648353e-06</td>\n",
       "      <td>3.433820e-06</td>\n",
       "      <td>4.652510e-05</td>\n",
       "    </tr>\n",
       "    <tr>\n",
       "      <th>4</th>\n",
       "      <td>230a6fb01dffd20c3f51ac7261ed0c68</td>\n",
       "      <td>5.261115e-06</td>\n",
       "      <td>1.544125e-03</td>\n",
       "      <td>2.365612e-03</td>\n",
       "      <td>1.164066e-04</td>\n",
       "      <td>1.411720e-05</td>\n",
       "      <td>2.644368e-10</td>\n",
       "      <td>4.308083e-02</td>\n",
       "      <td>4.297225e-08</td>\n",
       "      <td>9.603519e-06</td>\n",
       "      <td>...</td>\n",
       "      <td>7.261063e-03</td>\n",
       "      <td>4.885868e-07</td>\n",
       "      <td>3.739473e-06</td>\n",
       "      <td>2.027906e-07</td>\n",
       "      <td>2.394093e-03</td>\n",
       "      <td>3.189786e-08</td>\n",
       "      <td>1.455230e-06</td>\n",
       "      <td>2.416667e-07</td>\n",
       "      <td>3.309084e-04</td>\n",
       "      <td>1.834862e-03</td>\n",
       "    </tr>\n",
       "  </tbody>\n",
       "</table>\n",
       "<p>5 rows × 121 columns</p>\n",
       "</div>"
      ],
      "text/plain": [
       "                                 id  affenpinscher  afghan_hound  \\\n",
       "0  09e51e17e2b756ff2ace8a87bd1443fa   2.839192e-09  3.451655e-04   \n",
       "1  56eef5133aeac23ce93a07e43be7d22f   2.412674e-14  2.326727e-12   \n",
       "2  d6487ec0c82b85e4db6e9b57a69b7587   5.495641e-02  6.314468e-07   \n",
       "3  0eb22da796bce296261373cfc4f3c2c8   2.090162e-12  8.246293e-09   \n",
       "4  230a6fb01dffd20c3f51ac7261ed0c68   5.261115e-06  1.544125e-03   \n",
       "\n",
       "   african_hunting_dog      airedale  american_staffordshire_terrier  \\\n",
       "0         2.753675e-03  3.877028e-07                    8.984754e-06   \n",
       "1         1.830225e-10  2.218899e-07                    7.018526e-14   \n",
       "2         3.686154e-04  1.327258e-09                    4.173014e-08   \n",
       "3         1.332261e-10  2.971562e-10                    1.069892e-06   \n",
       "4         2.365612e-03  1.164066e-04                    1.411720e-05   \n",
       "\n",
       "    appenzeller  australian_terrier       basenji        basset  ...  \\\n",
       "0  3.020998e-15        8.416278e-07  1.307453e-06  9.597786e-07  ...   \n",
       "1  3.813891e-18        5.663180e-03  1.462709e-09  2.483815e-07  ...   \n",
       "2  1.687474e-09        1.310165e-08  5.193287e-09  1.660111e-07  ...   \n",
       "3  1.858152e-17        1.134135e-08  2.991833e-12  3.952737e-13  ...   \n",
       "4  2.644368e-10        4.308083e-02  4.297225e-08  9.603519e-06  ...   \n",
       "\n",
       "     toy_poodle   toy_terrier        vizsla  walker_hound    weimaraner  \\\n",
       "0  3.589998e-06  2.492839e-07  3.069149e-09  7.086798e-07  2.596388e-03   \n",
       "1  9.356164e-07  1.855845e-06  9.745362e-09  1.103746e-10  1.175196e-07   \n",
       "2  1.570099e-06  1.284374e-06  1.527514e-07  1.120431e-09  4.641067e-01   \n",
       "3  1.910920e-04  4.512136e-13  1.059952e-12  3.350451e-12  2.925991e-05   \n",
       "4  7.261063e-03  4.885868e-07  3.739473e-06  2.027906e-07  2.394093e-03   \n",
       "\n",
       "   welsh_springer_spaniel  west_highland_white_terrier       whippet  \\\n",
       "0            1.226619e-05                 1.131287e-05  2.999909e-02   \n",
       "1            1.321511e-08                 1.092664e-19  1.123342e-08   \n",
       "2            1.146493e-10                 1.219507e-11  3.335257e-06   \n",
       "3            4.464807e-11                 1.771437e-01  8.648353e-06   \n",
       "4            3.189786e-08                 1.455230e-06  2.416667e-07   \n",
       "\n",
       "   wire-haired_fox_terrier  yorkshire_terrier  \n",
       "0             1.451220e-04       1.997639e-07  \n",
       "1             9.896335e-13       8.559925e-03  \n",
       "2             1.963244e-07       1.834938e-06  \n",
       "3             3.433820e-06       4.652510e-05  \n",
       "4             3.309084e-04       1.834862e-03  \n",
       "\n",
       "[5 rows x 121 columns]"
      ]
     },
     "execution_count": 33,
     "metadata": {},
     "output_type": "execute_result"
    }
   ],
   "source": [
    "submission_data.head()"
   ]
  },
  {
   "cell_type": "code",
   "execution_count": null,
   "id": "d0eb9d0a",
   "metadata": {
    "papermill": {
     "duration": 0.36555,
     "end_time": "2022-11-07T23:17:19.880649",
     "exception": false,
     "start_time": "2022-11-07T23:17:19.515099",
     "status": "completed"
    },
    "tags": []
   },
   "outputs": [],
   "source": []
  }
 ],
 "metadata": {
  "kernelspec": {
   "display_name": "Python 3",
   "language": "python",
   "name": "python3"
  },
  "language_info": {
   "codemirror_mode": {
    "name": "ipython",
    "version": 3
   },
   "file_extension": ".py",
   "mimetype": "text/x-python",
   "name": "python",
   "nbconvert_exporter": "python",
   "pygments_lexer": "ipython3",
   "version": "3.7.12"
  },
  "papermill": {
   "default_parameters": {},
   "duration": 1127.989866,
   "end_time": "2022-11-07T23:17:23.742368",
   "environment_variables": {},
   "exception": null,
   "input_path": "__notebook__.ipynb",
   "output_path": "__notebook__.ipynb",
   "parameters": {},
   "start_time": "2022-11-07T22:58:35.752502",
   "version": "2.3.4"
  }
 },
 "nbformat": 4,
 "nbformat_minor": 5
}
